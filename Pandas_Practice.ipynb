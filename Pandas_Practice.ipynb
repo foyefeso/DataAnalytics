{
 "cells": [
  {
   "cell_type": "markdown",
   "metadata": {},
   "source": [
    "# Pandas Bioinformatics Practice\n",
    "\n",
    "### Complete the following tasks. As always, there are multiple ways to solve these steps.\n",
    "\n",
    "1) Load `codon.csv` and clean it by removing unnecessary column(s) and changing the column header name to `DNA`.  \n",
    "2) Create three new columns: `RNA`, `AA`, and `weight` filled with appropriate data.  \n",
    "3) Create a barplot of the 3 highest frequency amino acids.  \n",
    "4) Create a boxplot of the codon weights.  \n",
    "5) Create the descriptive summary statistics table for `weight`\n",
    "\n",
    "### Harder Challenge (Google a lot, don't have to finish today)\n",
    "\n",
    "6) Use the stop codon as a separator and create a new dataframe where each row is a new protein sequence. For example, the long string `ABCABCStopDEFSStop` returns two protein sequences, `ABCABC` and `DEFS`.  \n",
    "7) Create two new columns in the new dataframe, `length` of the protein sequence and `weight` of protein sequence.  \n",
    "8) Create a descriptive summary statistics table for `length` and `weight`.  \n",
    "9) Is there a relationship between the length and weight of protein sequences? Create a scatter plot comparing `length` and `weight` and include the regression line.  \n",
    "10) What is the Pearson correlation coefficient?\n"
   ]
  },
  {
   "cell_type": "code",
   "execution_count": null,
   "metadata": {},
   "outputs": [],
   "source": [
    "# Helper dictionaries\n",
    "\n",
    "weights = {'A': 71.04, 'C': 103.01, 'D': 115.03, 'E': 129.04, 'F': 147.07,\n",
    "           'G': 57.02, 'H': 137.06, 'I': 113.08, 'K': 128.09, 'L': 113.08,\n",
    "           'M': 131.04, 'N': 114.04, 'P': 97.05, 'Q': 128.06, 'R': 156.10,\n",
    "           'S': 87.03, 'T': 101.05, 'V': 99.07, 'W': 186.08, 'Y': 163.06 }\n",
    "\n",
    "AA_dct = {\n",
    "    # Phenylalanine\n",
    "    'UUC':'F', 'UUU':'F',\n",
    "    # Leucine\n",
    "    'UUA':'L', 'UUG':'L', 'CUU':'L', 'CUC':'L','CUA':'L','CUG':'L', \n",
    "    # Isoleucine\n",
    "    'AUU':'I', 'AUC':'I', 'AUA':'I', \n",
    "    # Methionine\n",
    "    'AUG':'M', \n",
    "    # Valine\n",
    "    'GUU':'V', 'GUC':'V', 'GUA':'V', 'GUG':'V', \n",
    "    # Serine\n",
    "    'UCU':'S', 'UCC':'S', 'UCA':'S', 'UCG':'S', 'AGU':'S', 'AGC':'S', \n",
    "    # Proline\n",
    "    'CCU':'P', 'CCC':'P', 'CCA':'P', 'CCG':'P', \n",
    "    # Threonine\n",
    "    'ACU':'T', 'ACC':'T', 'ACA':'T', 'ACG':'T',\n",
    "    # Alanine\n",
    "    'GCU':'A', 'GCC':'A', 'GCA':'A', 'GCG':'A', \n",
    "    # Tyrosine\n",
    "    'UAU':'Y', 'UAC':'Y', \n",
    "    # Histidine\n",
    "    'CAU':'H', 'CAC':'H',\n",
    "    # Glutamine\n",
    "    'CAA':'Q', 'CAG':'Q', \n",
    "    # Asparagine\n",
    "    'AAU':'N', 'AAC':'N', \n",
    "    # Lysine\n",
    "    'AAA':'K', 'AAG':'K',\n",
    "    # Aspartic Acid\n",
    "    'GAU':'D', 'GAC':'D', \n",
    "    # Glutamic Acid\n",
    "    'GAA':'E', 'GAG':'E',\n",
    "    # Cystine\n",
    "    'UGU':'C', 'UGC':'C',\n",
    "    # Tryptophan\n",
    "    'UGG':'W', \n",
    "    # Arginine\n",
    "    'CGU':'R', 'CGC':'R', 'CGA':'R', 'CGG':'R', 'AGA':'R', 'AGG':'R', \n",
    "    # Glycine\n",
    "    'GGU':'G',  'GGC':'G', 'GGA':'G', 'GGG':'G', \n",
    "    # Stop codon\n",
    "    'UAA':'Stop', 'UGA':'Stop', 'UAG':'Stop'}"
   ]
  }
 ],
 "metadata": {
  "kernelspec": {
   "display_name": "Python 3",
   "language": "python",
   "name": "python3"
  },
  "language_info": {
   "codemirror_mode": {
    "name": "ipython",
    "version": 3
   },
   "file_extension": ".py",
   "mimetype": "text/x-python",
   "name": "python",
   "nbconvert_exporter": "python",
   "pygments_lexer": "ipython3",
   "version": "3.6.8"
  }
 },
 "nbformat": 4,
 "nbformat_minor": 2
}
